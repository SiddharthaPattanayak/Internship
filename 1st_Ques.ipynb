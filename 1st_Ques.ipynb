{
 "cells": [
  {
   "cell_type": "code",
   "execution_count": 2,
   "metadata": {},
   "outputs": [
    {
     "name": "stdout",
     "output_type": "stream",
     "text": [
      "City: CityA\n",
      "  Average Temperature: 72.5\n",
      "  Average Humidity: 40.0\n",
      "\n",
      "City: CityB\n",
      "  Average Temperature: 80.0\n",
      "  Average Humidity: 52.5\n",
      "\n"
     ]
    }
   ],
   "source": [
    "# Question 1\n",
    "records = [\n",
    "    {'city': 'CityA', 'temperature': 70, 'humidity': 40},\n",
    "    {'city': 'CityA', 'temperature': 75},\n",
    "    {'city': 'CityB', 'humidity': 55},\n",
    "    {'city': 'CityB', 'temperature': 80, 'humidity': 50},\n",
    "]\n",
    "\n",
    "\n",
    "def aggregate_weather_data(records):\n",
    "    city_data = {}\n",
    "    \n",
    "    for record in records:\n",
    "        city = record.get('city')\n",
    "        \n",
    "        if city not in city_data:\n",
    "            city_data[city] = {\n",
    "                'temperature_sum': 0,\n",
    "                'humidity_sum': 0,\n",
    "                'temperature_count': 0,\n",
    "                'humidity_count': 0\n",
    "            }\n",
    "        \n",
    "        temperature = record.get('temperature')\n",
    "        humidity = record.get('humidity')\n",
    "        \n",
    "        if temperature is not None:\n",
    "            city_data[city]['temperature_sum'] += temperature\n",
    "            city_data[city]['temperature_count'] += 1\n",
    "        \n",
    "        if humidity is not None:\n",
    "            city_data[city]['humidity_sum'] += humidity\n",
    "            city_data[city]['humidity_count'] += 1\n",
    "    \n",
    "    for city, data in city_data.items():\n",
    "        avg_temp = (data['temperature_sum'] / data['temperature_count']) if data['temperature_count'] > 0 else None\n",
    "        avg_humidity = (data['humidity_sum'] / data['humidity_count']) if data['humidity_count'] > 0 else None\n",
    "        \n",
    "        print(f\"City: {city}\")\n",
    "        print(f\"  Average Temperature: {avg_temp}\")\n",
    "        print(f\"  Average Humidity: {avg_humidity}\")\n",
    "        print()  \n",
    "\n",
    "aggregate_weather_data(records)\n"
   ]
  },
  {
   "cell_type": "code",
   "execution_count": 3,
   "metadata": {},
   "outputs": [
    {
     "name": "stdout",
     "output_type": "stream",
     "text": [
      "[(2, 2), (3, 1), (5, 1)]\n"
     ]
    }
   ],
   "source": [
    "# Question 2\n",
    "def prime_factorization(n):\n",
    "    factors = []\n",
    "    divisor = 2\n",
    "    \n",
    "    while n > 1:\n",
    "        count = 0\n",
    "        while n % divisor == 0:\n",
    "            n //= divisor\n",
    "            count += 1\n",
    "        if count > 0:\n",
    "            factors.append((divisor, count))\n",
    "        divisor += 1\n",
    "    \n",
    "    return factors\n",
    "\n",
    "\n",
    "result = prime_factorization(60)\n",
    "print(result)\n"
   ]
  },
  {
   "cell_type": "code",
   "execution_count": null,
   "metadata": {},
   "outputs": [],
   "source": [
    "# Question 3\n",
    "SELECT \n",
    "    name,\n",
    "    price * 1.10 AS new_price\n",
    "FROM \n",
    "    products;\n"
   ]
  }
 ],
 "metadata": {
  "kernelspec": {
   "display_name": "myenv",
   "language": "python",
   "name": "python3"
  },
  "language_info": {
   "codemirror_mode": {
    "name": "ipython",
    "version": 3
   },
   "file_extension": ".py",
   "mimetype": "text/x-python",
   "name": "python",
   "nbconvert_exporter": "python",
   "pygments_lexer": "ipython3",
   "version": "3.12.3"
  }
 },
 "nbformat": 4,
 "nbformat_minor": 2
}
